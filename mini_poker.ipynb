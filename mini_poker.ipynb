{
 "cells": [
  {
   "cell_type": "code",
   "execution_count": 1,
   "metadata": {},
   "outputs": [],
   "source": [
    "# pour les imports\n",
    "import numpy as np\n"
   ]
  },
  {
   "attachments": {},
   "cell_type": "markdown",
   "metadata": {},
   "source": [
    "# Zayed"
   ]
  },
  {
   "cell_type": "code",
   "execution_count": 2,
   "metadata": {},
   "outputs": [],
   "source": [
    "class Cards:\n",
    "    def __init__(self):\n",
    "        self.ncards = 20  # number of cards\n",
    "        self.cards = 4*[7, 8, 9, 10, 11]  # cards (?? 11 pour \"A\")\n",
    "\n",
    "    def shuffle(self):\n",
    "        '''Knuth shuffle'''\n",
    "        n = self.ncards\n",
    "        for i in range(1, n):\n",
    "            j = np.random.randint(0, i+1)  # random int in [0,i]\n",
    "            a = self.cards[i]\n",
    "            b = self.cards[j]\n",
    "            self.cards[i] = b\n",
    "            self.cards[j] = a\n",
    "\n",
    "    def hands(self):\n",
    "        '''distribution of cards by the agent :)'''\n",
    "        self.hand1 = [self.cards[0], self.cards[2]]\n",
    "        self.hand2 = [self.cards[1], self.cards[3]]\n",
    "        self.sumHand1 = self.cards[0]+self.cards[2]  # the sum of the two cards\n",
    "        # for agent (agent is the one who shuffles)\n",
    "        self.sumHand2 = self.cards[1]+self.cards[3]\n"
   ]
  },
  {
   "cell_type": "code",
   "execution_count": 3,
   "metadata": {},
   "outputs": [],
   "source": [
    "class Enemies:\n",
    "    def __int__(self):\n",
    "        self.maxPoints = 100000  # the maximum amount of points that the enemy has\n",
    "        self.points = [1, 2, 3, 4, 5, 6, 7, 8, 9, 10]\n",
    "\n",
    "    def enemy1(self, hand1):\n",
    "        goforpoints = None\n",
    "        if hand1[0]+hand1[1] >= 18:  # (the mean of all possible hands)\n",
    "            goforpoints = np.random.choice(self.points[5:])\n",
    "        else:\n",
    "            goforpoints = np.random.choice(self.points[:5])\n",
    "        return goforpoints\n"
   ]
  },
  {
   "cell_type": "code",
   "execution_count": 4,
   "metadata": {},
   "outputs": [
    {
     "ename": "AttributeError",
     "evalue": "'Enemies' object has no attribute 'points'",
     "output_type": "error",
     "traceback": [
      "\u001b[0;31m---------------------------------------------------------------------------\u001b[0m",
      "\u001b[0;31mAttributeError\u001b[0m                            Traceback (most recent call last)",
      "\u001b[0;32m/var/folders/5t/4vl766s17mn_xbr_cwlzgy9r0000gn/T/ipykernel_2442/3557804219.py\u001b[0m in \u001b[0;36m<module>\u001b[0;34m\u001b[0m\n\u001b[1;32m      5\u001b[0m \u001b[0mhand1\u001b[0m \u001b[0;34m=\u001b[0m \u001b[0mcards\u001b[0m\u001b[0;34m.\u001b[0m\u001b[0mhand1\u001b[0m\u001b[0;34m\u001b[0m\u001b[0;34m\u001b[0m\u001b[0m\n\u001b[1;32m      6\u001b[0m \u001b[0menemy\u001b[0m \u001b[0;34m=\u001b[0m \u001b[0mEnemies\u001b[0m\u001b[0;34m(\u001b[0m\u001b[0;34m)\u001b[0m\u001b[0;34m\u001b[0m\u001b[0;34m\u001b[0m\u001b[0m\n\u001b[0;32m----> 7\u001b[0;31m \u001b[0mprint\u001b[0m\u001b[0;34m(\u001b[0m\u001b[0menemy\u001b[0m\u001b[0;34m.\u001b[0m\u001b[0mpoints\u001b[0m\u001b[0;34m)\u001b[0m\u001b[0;34m\u001b[0m\u001b[0;34m\u001b[0m\u001b[0m\n\u001b[0m\u001b[1;32m      8\u001b[0m \u001b[0menemy\u001b[0m\u001b[0;34m.\u001b[0m\u001b[0menemy1\u001b[0m\u001b[0;34m(\u001b[0m\u001b[0mhand1\u001b[0m\u001b[0;34m)\u001b[0m\u001b[0;34m\u001b[0m\u001b[0;34m\u001b[0m\u001b[0m\n",
      "\u001b[0;31mAttributeError\u001b[0m: 'Enemies' object has no attribute 'points'"
     ]
    }
   ],
   "source": [
    "# test\n",
    "cards = Cards()\n",
    "cards.shuffle()\n",
    "cards.hands()\n",
    "hand1 = cards.hand1\n",
    "enemy = Enemies()\n",
    "print(enemy.points)\n",
    "enemy.enemy1(hand1)\n"
   ]
  },
  {
   "attachments": {},
   "cell_type": "markdown",
   "metadata": {},
   "source": [
    "# Abdallahi"
   ]
  },
  {
   "cell_type": "code",
   "execution_count": null,
   "metadata": {},
   "outputs": [],
   "source": []
  },
  {
   "cell_type": "code",
   "execution_count": null,
   "metadata": {},
   "outputs": [],
   "source": []
  },
  {
   "attachments": {},
   "cell_type": "markdown",
   "metadata": {},
   "source": [
    "# Mermoud"
   ]
  }
 ],
 "metadata": {
  "kernelspec": {
   "display_name": "base",
   "language": "python",
   "name": "python3"
  },
  "language_info": {
   "codemirror_mode": {
    "name": "ipython",
    "version": 3
   },
   "file_extension": ".py",
   "mimetype": "text/x-python",
   "name": "python",
   "nbconvert_exporter": "python",
   "pygments_lexer": "ipython3",
   "version": "3.9.7 (default, Sep 16 2021, 08:50:36) \n[Clang 10.0.0 ]"
  },
  "orig_nbformat": 4,
  "vscode": {
   "interpreter": {
    "hash": "40d3a090f54c6569ab1632332b64b2c03c39dcf918b08424e98f38b5ae0af88f"
   }
  }
 },
 "nbformat": 4,
 "nbformat_minor": 2
}
