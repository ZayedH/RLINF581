{
 "cells": [
  {
   "cell_type": "code",
   "execution_count": 1,
   "metadata": {},
   "outputs": [],
   "source": [
    "# pour les imports\n",
    "import numpy as np"
   ]
  },
  {
   "attachments": {},
   "cell_type": "markdown",
   "metadata": {},
   "source": [
    "# Zayed"
   ]
  },
  {
   "cell_type": "code",
   "execution_count": 97,
   "metadata": {},
   "outputs": [],
   "source": [
    "class Cards : \n",
    "    def __init__(self):\n",
    "        self.ncards = 20 # number of cards\n",
    "        self.cards = 4*[7,8,9,10,11] # cards (?? 11 pour \"A\")\n",
    "    \n",
    "    def shuffle(self):\n",
    "        '''Knuth shuffle'''\n",
    "        n=self.ncards\n",
    "        for i in range(1,n):\n",
    "            j = np.random.randint(0,i+1) # random int betwwen [0,i]\n",
    "            a = self.cards[i]\n",
    "            b = self.cards[j]\n",
    "            self.cards[i] = b\n",
    "            self.cards[j] = a\n",
    "    def hands(self):\n",
    "        '''distribution of cards by the agent :)'''\n",
    "        self.hand1 = [self.cards[0], self.cards[2]]\n",
    "        self.hand2 = [self.cards[1], self.cards[3]]\n",
    "        self.sumHand1 = self.cards[0]+self.cards[2]# the sum of the two cards\n",
    "        self.sumHand2 = self.cards[1]+self.cards[3] # for agent (agent is the one who shuffles)\n",
    "        \n",
    "    \n"
   ]
  },
  {
   "cell_type": "code",
   "execution_count": 111,
   "metadata": {},
   "outputs": [
    {
     "name": "stdout",
     "output_type": "stream",
     "text": [
      "[9, 7]\n",
      "[10, 8]\n"
     ]
    }
   ],
   "source": [
    "#test\n",
    "cards=Cards()\n",
    "cards.shuffle()\n",
    "cards.hands()\n",
    "print(cards.hand1)\n",
    "print(cards.hand2)"
   ]
  },
  {
   "attachments": {},
   "cell_type": "markdown",
   "metadata": {},
   "source": [
    "# Abdallahi"
   ]
  },
  {
   "cell_type": "code",
   "execution_count": 79,
   "metadata": {},
   "outputs": [
    {
     "name": "stdout",
     "output_type": "stream",
     "text": [
      "[7, 8, 9, 10, 11, 7, 8, 9, 10, 11, 7, 8, 9, 10, 11, 7, 8, 9, 10, 11]\n",
      "[11, 10, 7, 8, 7, 9, 11, 9, 11, 10, 11, 9, 8, 9, 7, 7, 10, 8, 8, 10]\n"
     ]
    }
   ],
   "source": [
    "\n"
   ]
  },
  {
   "cell_type": "code",
   "execution_count": null,
   "metadata": {},
   "outputs": [],
   "source": []
  },
  {
   "attachments": {},
   "cell_type": "markdown",
   "metadata": {},
   "source": [
    "# Mermoud"
   ]
  }
 ],
 "metadata": {
  "kernelspec": {
   "display_name": "base",
   "language": "python",
   "name": "python3"
  },
  "language_info": {
   "codemirror_mode": {
    "name": "ipython",
    "version": 3
   },
   "file_extension": ".py",
   "mimetype": "text/x-python",
   "name": "python",
   "nbconvert_exporter": "python",
   "pygments_lexer": "ipython3",
   "version": "3.9.7"
  },
  "orig_nbformat": 4,
  "vscode": {
   "interpreter": {
    "hash": "40d3a090f54c6569ab1632332b64b2c03c39dcf918b08424e98f38b5ae0af88f"
   }
  }
 },
 "nbformat": 4,
 "nbformat_minor": 2
}
