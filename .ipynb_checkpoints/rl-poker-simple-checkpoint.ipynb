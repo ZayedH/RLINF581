{
 "cells": [
  {
   "cell_type": "code",
   "execution_count": 1,
   "metadata": {},
   "outputs": [
    {
     "name": "stderr",
     "output_type": "stream",
     "text": [
      "<frozen importlib._bootstrap>:228: RuntimeWarning: scipy._lib.messagestream.MessageStream size changed, may indicate binary incompatibility. Expected 56 from C header, got 64 from PyObject\n"
     ]
    }
   ],
   "source": [
    "import sys\n",
    "sys.path.insert(0, './utils')\n",
    "\n",
    "import numpy as np\n",
    "import random\n",
    "import itertools\n",
    "import seaborn as sns\n",
    "import matplotlib.pyplot as plt\n",
    "\n",
    "from game import *\n",
    "from tools import *\n",
    "from tqdm import trange, tqdm\n",
    "from scipy import interpolate"
   ]
  },
  {
   "cell_type": "code",
   "execution_count": 2,
   "metadata": {},
   "outputs": [
    {
     "data": {
      "text/plain": [
       "[0.00440070123080884,\n",
       " 0.007255529725230768,\n",
       " 0.011962346188185022,\n",
       " 0.019722574607939244,\n",
       " 0.03251702826907967,\n",
       " 0.053611516167189024,\n",
       " 0.08839044705932836,\n",
       " 0.14573121019340823,\n",
       " 0.2402701460507435,\n",
       " 0.39613850050808724]"
      ]
     },
     "execution_count": 2,
     "metadata": {},
     "output_type": "execute_result"
    }
   ],
   "source": [
    "l = list(range(10))\n",
    "softmax(l, 2)"
   ]
  },
  {
   "cell_type": "markdown",
   "metadata": {},
   "source": [
    "# Let's play one against the other "
   ]
  },
  {
   "cell_type": "code",
   "execution_count": 3,
   "metadata": {},
   "outputs": [],
   "source": [
    "cards = [\"Ace\", \"King\", \"Queen\", \"Jack\", \"1\", \"2\", \"3\", \"4\", \"5\", \"6\", \"7\", \"8\", \"9\", \"10\"]\n",
    "signs = [\"Club\", \"Diamond\", \"Heart\", \"Spade\"]\n",
    "initialW = 100\n",
    "n = 7\n",
    "m = 11\n",
    "it = int(5*1e3)\n",
    "lr = .5\n",
    "exp = .2\n",
    "eta = 2.\n",
    "step = 1e-5\n",
    "alpha = 3.\n",
    "decay = 1.\n",
    "maxBet = 10\n",
    "retreat = 1\n",
    "parameters = np.ones((2*(m-n)+1, maxBet, 2))*1e-5"
   ]
  },
  {
   "cell_type": "code",
   "execution_count": 4,
   "metadata": {},
   "outputs": [],
   "source": [
    "class Game(): \n",
    "    \n",
    "    def __init__(self, firstPlayer, secondPlayer):\n",
    "        # Number of cards and their range may be changed.\n",
    "        self.cards = 4*list(range(n, m+1))\n",
    "        self.firstPlayer = firstPlayer\n",
    "        self.secondPlayer = secondPlayer\n",
    "        self.turn = random.randint(0, 1)\n",
    "        \n",
    "    def deal(self):\n",
    "        random.shuffle(self.cards)\n",
    "        # Who's turn it is?\n",
    "        self.turn = 1 - self.turn\n",
    "        self.firstPlayer.hand = [self.cards[0], self.cards[2]]\n",
    "        self.firstPlayer.sum = sum(self.firstPlayer.hand)\n",
    "        self.secondPlayer.hand = [self.cards[1], self.cards[3]]\n",
    "        self.secondPlayer.sum = sum(self.secondPlayer.hand)\n",
    "        \n",
    "    def reset(self):\n",
    "        self.secondPlayer.reset()\n",
    "        self.firstPlayer.reset()\n",
    "        self.turn = random.randint(0, 1)\n",
    "        \n",
    "    def learn(self, rounds = 10):\n",
    "\n",
    "        score = 0\n",
    "        for _ in range(rounds):\n",
    "            self.reset()\n",
    "            while self.firstPlayer.worth * self.secondPlayer.worth > 0:\n",
    "                self.deal()\n",
    "                # simplePlay either you choose to bet as your adverser \n",
    "                # or to enter (cost you 1 point).\n",
    "                simplePlay(self.firstPlayer, self.secondPlayer, self.turn)\n",
    "            score += (self.firstPlayer.worth > 0)\n",
    "            \n",
    "        return score\n",
    "    \n",
    "    def human(self, results = True):\n",
    "\n",
    "        self.reset()\n",
    "        while self.firstPlayer.worth * self.secondPlayer.worth > 0:\n",
    "            self.deal()\n",
    "            simplePlay(self.firstPlayer, self.secondPlayer, self.turn)\n",
    "            \n",
    "            if results:\n",
    "                print(\"-------------------------\")\n",
    "                print(\"The {0} hand and last action were: {1}-{2}\".format(self.secondPlayer.name, self.secondPlayer.hand, self.secondPlayer.action))\n",
    "                print(\"-------------------------\")\n",
    "                print(\"The {0} hand and last action were: {1}-{2}\".format(self.firstPlayer.name, self.firstPlayer.hand, self.firstPlayer.action))\n",
    "                print(\"-------------------------\")\n",
    "                print(\"Current Net Worth of {0}: {1} - Current Net Worth of {2}: {3}\".format(self.firstPlayer.name, self.firstPlayer.worth, self.secondPlayer.name, self.secondPlayer.worth))\n",
    "                print(\"=========================\")\n",
    "            \n",
    "        if self.secondPlayer.worth > 0:\n",
    "            print(\"\\n And the final winner is {0}! :)\".format(self.secondPlayer.name))\n",
    "        else:\n",
    "            print(\"\\n And the final winner is {0}! :>\".format(self.firstPlayer.name))"
   ]
  },
  {
   "cell_type": "markdown",
   "metadata": {},
   "source": [
    "# TD Player"
   ]
  },
  {
   "cell_type": "code",
   "execution_count": 28,
   "metadata": {},
   "outputs": [],
   "source": [
    "class Player:\n",
    "    \n",
    "    def __init__(self, name = \"Player\", lr = lr, exp = exp, eta = eta, random = False):\n",
    "        self.trainable = True\n",
    "        self.worth = initialW\n",
    "        self.statDict = {}\n",
    "        self.lr = lr\n",
    "        self.exp = exp\n",
    "        self.eta = eta\n",
    "        self.name = name\n",
    "        self.random = random\n",
    "        self.maxBet = maxBet\n",
    "        \n",
    "    def reset(self):\n",
    "        self.worth = initialW\n",
    "        \n",
    "    def chooseAction(self, actions, advAction):\n",
    "        state = str(self.sum) + \"-\" + str(advAction)\n",
    "        if random.random() < self.exp or self.statDict.get(state) is None:\n",
    "            return random.choice(actions)\n",
    "        Dict = self.statDict.get(state)\n",
    "        if self.random:\n",
    "            # Using softmax to help our player take \"unpredectible\" actions.\n",
    "            action = int(random.choices(list(Dict.keys()), softmax(list(Dict.values()), eta))[0])\n",
    "        else:\n",
    "            # Take the best action, the action who get the best reward!\n",
    "            action = int(max(self.statDict.get(state), key = lambda x: self.statDict.get(state)[x]))\n",
    "        return action\n",
    "        \n",
    "    def update(self, adverser, boolean = True):\n",
    "        if self.trainable:\n",
    "            if adverser.action > 0:\n",
    "                if boolean:\n",
    "                    state = str(self.sum) + \"-\" + str(None)\n",
    "                else:\n",
    "                    state = str(self.sum) + \"-\" + str(adverser.action)\n",
    "                    \n",
    "                if self.statDict.get(state) is None:\n",
    "                    self.statDict[state] = {}\n",
    "                if self.statDict.get(state).get(str(self.action)) is None:\n",
    "                    self.statDict[state][str(self.action)] = 0\n",
    "\n",
    "                if self.action == adverser.action:\n",
    "                    if self.sum > adverser.sum:\n",
    "                        self.statDict[state][str(self.action)] += self.lr*( self.action - self.statDict[state][str(self.action)])\n",
    "                    elif self.sum < adverser.sum:\n",
    "                        self.worth -= self.action\n",
    "                        self.statDict[state][str(self.action)] += self.lr*(- self.action - self.statDict[state][str(self.action)])\n",
    "\n",
    "                elif self.action == 0:\n",
    "                    self.worth -= retreat\n",
    "                    self.statDict[state][str(self.action)] += self.lr*(- retreat - self.statDict[state][str(self.action)])\n",
    "\n",
    "        else:\n",
    "            if self.action == adverser.action and self.sum < adverser.sum:\n",
    "                self.worth -= self.action\n",
    "            elif self.action == 0:\n",
    "                self.worth -= retreat\n",
    "        "
   ]
  },
  {
   "cell_type": "markdown",
   "metadata": {},
   "source": [
    "# Human Player"
   ]
  },
  {
   "cell_type": "code",
   "execution_count": 6,
   "metadata": {},
   "outputs": [],
   "source": [
    "class HumanPlayer(Player):\n",
    "    \n",
    "    def __init__(self, name = \"HumanPlayer\"):\n",
    "        Player.__init__(self)\n",
    "        self.name = name\n",
    "        \n",
    "    def chooseAction(self, actions, advAction):\n",
    "        print(\"State: \", self.hand)\n",
    "        \n",
    "        if advAction is None: \n",
    "            pass\n",
    "        else:\n",
    "            print(\"Adverser played: \", advAction)\n",
    "            \n",
    "        action = int(input(\"Input your action: \")) \n",
    "        \n",
    "        while action not in actions:\n",
    "            print(\"Try a number in \", actions)\n",
    "            action = int(input(\"Input your action: \"))  \n",
    "            \n",
    "        return action\n",
    "    \n",
    "    def update(self, adverser, boolean = True):\n",
    "        if self.action == adverser.action and self.sum < adverser.sum:\n",
    "            self.worth -= self.action\n",
    "        elif self.action == 0:\n",
    "            self.worth -= retreat"
   ]
  },
  {
   "cell_type": "markdown",
   "metadata": {},
   "source": [
    "# Greedy Player"
   ]
  },
  {
   "cell_type": "code",
   "execution_count": 7,
   "metadata": {},
   "outputs": [],
   "source": [
    "class GreedyPlayer(Player):\n",
    "    \n",
    "    def __init__(self, name = \"GreedyPlayer\"):\n",
    "        Player.__init__(self)\n",
    "        self.name = name\n",
    "        \n",
    "    def chooseAction(self, actions, advAction):\n",
    "        if advAction is None:\n",
    "            return random.choice(actions[:int(self.sum*maxBet/(2*m))])\n",
    "        if self.sum > m + n:\n",
    "            return advAction\n",
    "        return 0\n",
    "    \n",
    "    def update(self, adverser, boolean = True):\n",
    "        if self.action == adverser.action and self.sum < adverser.sum:\n",
    "            self.worth -= self.action\n",
    "        elif self.action == 0:\n",
    "            self.worth -= retreat"
   ]
  },
  {
   "cell_type": "markdown",
   "metadata": {},
   "source": [
    "# Determinstic Player"
   ]
  },
  {
   "cell_type": "code",
   "execution_count": 8,
   "metadata": {},
   "outputs": [],
   "source": [
    "class DeterminsticPlayer(Player):\n",
    "    \n",
    "    def __init__(self, name = \"DeterminsticPlayer\"):\n",
    "        Player.__init__(self)\n",
    "        self.name = name\n",
    "        \n",
    "    def chooseAction(self, actions, advAction):\n",
    "        if advAction is None:\n",
    "            k= 2*(m-n)+1\n",
    "            for i in range(k):\n",
    "                if self.sum <= i + 2*n:\n",
    "                    return int(maxBet*i/k)\n",
    "        return 0\n",
    "    \n",
    "    def update(self, adverser, boolean = True):\n",
    "        if self.action == adverser.action and self.sum < adverser.sum:\n",
    "            self.worth -= self.action\n",
    "        elif self.action == 0:\n",
    "            self.worth -= retreat"
   ]
  },
  {
   "cell_type": "markdown",
   "metadata": {},
   "source": [
    "# Who's better"
   ]
  },
  {
   "cell_type": "code",
   "execution_count": 92,
   "metadata": {},
   "outputs": [
    {
     "data": {
      "text/plain": [
       "331"
      ]
     },
     "execution_count": 92,
     "metadata": {},
     "output_type": "execute_result"
    }
   ],
   "source": [
    "# Need fine tunning !\n",
    "firstPlayer = Player(lr = .1, exp = .7, random = True, eta = .75)\n",
    "secondPlayer = Player()\n",
    "game = Game(firstPlayer, secondPlayer)\n",
    "game.learn(it)"
   ]
  },
  {
   "cell_type": "code",
   "execution_count": 93,
   "metadata": {},
   "outputs": [
    {
     "data": {
      "text/plain": [
       "5000"
      ]
     },
     "execution_count": 93,
     "metadata": {},
     "output_type": "execute_result"
    }
   ],
   "source": [
    "determinsticPlayer = DeterminsticPlayer()\n",
    "game = Game(secondPlayer, determinsticPlayer)\n",
    "game.learn(it)"
   ]
  },
  {
   "cell_type": "markdown",
   "metadata": {},
   "source": [
    "## Info"
   ]
  },
  {
   "cell_type": "code",
   "execution_count": 100,
   "metadata": {},
   "outputs": [],
   "source": [
    "def display(statDict, state, density = True, eta = eta):\n",
    "    try:\n",
    "        myDictionary = statDict.get(state)\n",
    "        myDictionary = dict(sorted(myDictionary.items(), key=lambda item: int(item[0])))\n",
    "        sns.histplot(x=myDictionary.keys(), weights=softmax(list(myDictionary.values()), eta),\n",
    "                 color='darkblue', edgecolor='black',\n",
    "                 kde = density, line_kws={'linewidth': 3})\n",
    "        plt.show()\n",
    "    except:\n",
    "        print(\"Try something else!\")"
   ]
  },
  {
   "cell_type": "code",
   "execution_count": 101,
   "metadata": {},
   "outputs": [
    {
     "data": {
      "image/png": "[encoded data removed]",
      "text/plain": [
       "<Figure size 432x288 with 1 Axes>"
      ]
     },
     "metadata": {
      "needs_background": "light"
     },
     "output_type": "display_data"
    }
   ],
   "source": [
    "display(firstPlayer.statDict, \"14-None\", eta = firstPlayer.eta)"
   ]
  },
  {
   "cell_type": "code",
   "execution_count": 64,
   "metadata": {},
   "outputs": [
    {
     "data": {
      "text/plain": [
       "{'3': 2.999633699306287,\n",
       " '6': 2.812499999978172,\n",
       " '7': -0.05490115564953335,\n",
       " '9': 6.732412754799148,\n",
       " '1': 0.9687499403953552,\n",
       " '10': -3.750362397634036,\n",
       " '5': 4.843025207518394,\n",
       " '8': 3.99951171875,\n",
       " '2': 0.9999198913283178,\n",
       " '4': 3.992187499996362}"
      ]
     },
     "execution_count": 64,
     "metadata": {},
     "output_type": "execute_result"
    }
   ],
   "source": [
    "firstPlayer.statDict.get(\"21-None\")"
   ]
  },
  {
   "cell_type": "markdown",
   "metadata": {},
   "source": [
    "# Who's better Zayed or the computer ?"
   ]
  },
  {
   "cell_type": "code",
   "execution_count": 14,
   "metadata": {
    "scrolled": false
   },
   "outputs": [],
   "source": [
    "# game = Game(firstPlayer, HumanPlayer())\n",
    "# game.human(results = True)"
   ]
  }
 ],
 "metadata": {
  "kernelspec": {
   "display_name": "Python 3 (ipykernel)",
   "language": "python",
   "name": "python3"
  },
  "language_info": {
   "codemirror_mode": {
    "name": "ipython",
    "version": 3
   },
   "file_extension": ".py",
   "mimetype": "text/x-python",
   "name": "python",
   "nbconvert_exporter": "python",
   "pygments_lexer": "ipython3",
   "version": "3.9.13"
  }
 },
 "nbformat": 4,
 "nbformat_minor": 2
}
