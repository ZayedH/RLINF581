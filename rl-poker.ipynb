{
 "cells": [
  {
   "cell_type": "code",
   "execution_count": 20,
   "metadata": {},
   "outputs": [],
   "source": [
    "import numpy as np\n",
    "import random"
   ]
  },
  {
   "cell_type": "code",
   "execution_count": 76,
   "metadata": {},
   "outputs": [],
   "source": [
    "cards = [\"Ace\", \"King\", \"Queen\", \"Jack\", \"1\", \"2\", \"3\", \"4\", \"5\", \"6\", \"7\", \"8\", \"9\", \"10\"]\n",
    "signs = [\"Club\", \"Diamond\", \"Heart\", \"Spade\"]\n",
    "\n",
    "class Cards: \n",
    "    def __init__(self, n = 7, m = 11):\n",
    "        \"\"\"Define the deck of cards\"\"\"\n",
    "        self.cards = 4*list(range(n, m+1))\n",
    "        \n",
    "    def shuffle(self):\n",
    "        \"\"\"Knuth shuffle\"\"\"\n",
    "        random.shuffle(self.cards)\n",
    "        \n",
    "    def deal(self):\n",
    "        \"\"\"Distribution of cards by the agent :)\"\"\"\n",
    "        try:\n",
    "            self.firstHand = [self.cards[0], self.cards[2]]\n",
    "            self.secondHand = [self.cards[1], self.cards[3]]\n",
    "            self.cards = self.cards[4:]\n",
    "        except:\n",
    "            print(\"GAME OVER\")\n",
    "\n",
    "    def score(self):\n",
    "        try:\n",
    "            return sum(self.firstHand), sum(self.secondHand)\n",
    "        except:\n",
    "            print(\"Deal the cards first\")\n",
    "         \n",
    "    def render(self, firstPlayer, secondPlayer):\n",
    "        print(\"---------------- First  Player ----------------\")\n",
    "        print(\"Cards: \", self.firstHand)\n",
    "        print(\"Score: \",sum(self.firstHand))\n",
    "        print(\"Worth: \",firstPlayer.worth)\n",
    "        print(\"Risks: \",firstPlayer.risks)\n",
    "        print(\"---------------- Second Player ----------------\")\n",
    "        print(\"Cards: \", self.secondHand)\n",
    "        print(\"Score: \",sum(self.secondHand))\n",
    "        print(\"Worth: \",secondPlayer.worth)\n",
    "        print(\"Risks: \",secondPlayer.risks)\n",
    "        \n",
    "class Player:\n",
    "    def __init__(self, risks = 10, initialW = 100):\n",
    "        self.risks = risks\n",
    "        self.worth = initialW\n",
    "        \n",
    "    def risk(self, k):\n",
    "        assert k in range(1, self.risks+1)\n",
    "        self.risks = k \n",
    "        \n",
    "    def updateWorth(self, )"
   ]
  },
  {
   "cell_type": "code",
   "execution_count": 77,
   "metadata": {},
   "outputs": [
    {
     "data": {
      "text/plain": [
       "(19, 19)"
      ]
     },
     "execution_count": 77,
     "metadata": {},
     "output_type": "execute_result"
    }
   ],
   "source": [
    "cards = Cards()\n",
    "cards.shuffle()\n",
    "cards.deal()\n",
    "cards.score()"
   ]
  },
  {
   "cell_type": "code",
   "execution_count": 78,
   "metadata": {},
   "outputs": [],
   "source": [
    "firstPlayer = Player()\n",
    "secondPlayer = Player()"
   ]
  },
  {
   "cell_type": "code",
   "execution_count": 79,
   "metadata": {},
   "outputs": [
    {
     "name": "stdout",
     "output_type": "stream",
     "text": [
      "---------------- First  Player ----------------\n",
      "Cards:  [8, 11]\n",
      "Score:  19\n",
      "Worth:  100\n",
      "---------------- Second Player ----------------\n",
      "Cards:  [10, 9]\n",
      "Score:  19\n",
      "Worth:  100\n"
     ]
    }
   ],
   "source": [
    "cards.render(firstPlayer, secondPlayer)"
   ]
  },
  {
   "cell_type": "code",
   "execution_count": null,
   "metadata": {},
   "outputs": [],
   "source": []
  }
 ],
 "metadata": {
  "kernelspec": {
   "display_name": "Python 3 (ipykernel)",
   "language": "python",
   "name": "python3"
  },
  "language_info": {
   "codemirror_mode": {
    "name": "ipython",
    "version": 3
   },
   "file_extension": ".py",
   "mimetype": "text/x-python",
   "name": "python",
   "nbconvert_exporter": "python",
   "pygments_lexer": "ipython3",
   "version": "3.9.13"
  }
 },
 "nbformat": 4,
 "nbformat_minor": 2
}
